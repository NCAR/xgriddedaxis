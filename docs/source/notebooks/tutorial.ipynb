{
 "cells": [
  {
   "cell_type": "markdown",
   "metadata": {},
   "source": [
    "# Tutorial"
   ]
  },
  {
   "cell_type": "code",
   "execution_count": 1,
   "metadata": {},
   "outputs": [],
   "source": [
    "from xtimeutil import Remapper\n",
    "from xtimeutil.testing import create_dataset"
   ]
  },
  {
   "cell_type": "markdown",
   "metadata": {},
   "source": [
    "## Create Test Data\n",
    "\n",
    "For demonstration purposes, we are going to use the `create_dataset()` function for generating test data. "
   ]
  },
  {
   "cell_type": "code",
   "execution_count": 2,
   "metadata": {},
   "outputs": [
    {
     "data": {
      "text/html": [
       "<pre>&lt;xarray.Dataset&gt;\n",
       "Dimensions:      (d2: 2, lat: 1, lon: 1, time: 8)\n",
       "Coordinates:\n",
       "  * time         (time) object 2018-01-16 12:00:00 ... 2018-08-16 12:00:00\n",
       "  * lat          (lat) float32 -90.0\n",
       "  * lon          (lon) float32 -180.0\n",
       "Dimensions without coordinates: d2\n",
       "Data variables:\n",
       "    var_ex       (time, lat, lon) float32 1.0 1.0 1.0 1.0 1.0 1.0 1.0 1.0\n",
       "    time_bounds  (time, d2) object 2018-01-01 00:00:00 ... 2018-09-01 00:00:00</pre>"
      ],
      "text/plain": [
       "<xarray.Dataset>\n",
       "Dimensions:      (d2: 2, lat: 1, lon: 1, time: 8)\n",
       "Coordinates:\n",
       "  * time         (time) object 2018-01-16 12:00:00 ... 2018-08-16 12:00:00\n",
       "  * lat          (lat) float32 -90.0\n",
       "  * lon          (lon) float32 -180.0\n",
       "Dimensions without coordinates: d2\n",
       "Data variables:\n",
       "    var_ex       (time, lat, lon) float32 1.0 1.0 1.0 1.0 1.0 1.0 1.0 1.0\n",
       "    time_bounds  (time, d2) object 2018-01-01 00:00:00 ... 2018-09-01 00:00:00"
      ]
     },
     "execution_count": 2,
     "metadata": {},
     "output_type": "execute_result"
    }
   ],
   "source": [
    "ds = create_dataset(start='2018-01-01', end='2018-08-01', freq='MS')\n",
    "ds"
   ]
  },
  {
   "cell_type": "markdown",
   "metadata": {},
   "source": [
    "## Create Remapper Object"
   ]
  },
  {
   "cell_type": "code",
   "execution_count": 3,
   "metadata": {},
   "outputs": [
    {
     "name": "stderr",
     "output_type": "stream",
     "text": [
      "/Users/abanihi/devel/ncar/xtime/xtimeutil/remapper.py:91: UserWarning: Resample frequency is greater than extent of incoming time axis. Doubling time axis interval.\n",
      "  warnings.warn(warning_message)\n"
     ]
    }
   ],
   "source": [
    "remapper = Remapper(ds, freq='A')"
   ]
  },
  {
   "cell_type": "code",
   "execution_count": 4,
   "metadata": {},
   "outputs": [
    {
     "data": {
      "text/plain": [
       "{'weights': [1.0, 1.0, 1.0, 1.0, 1.0, 1.0, 1.0, 1.0],\n",
       " 'col_idx': [0, 1, 2, 3, 4, 5, 6, 7],\n",
       " 'row_idx': [0, 0, 0, 0, 0, 0, 0, 0]}"
      ]
     },
     "execution_count": 4,
     "metadata": {},
     "output_type": "execute_result"
    }
   ],
   "source": [
    "remapper.coverage"
   ]
  },
  {
   "cell_type": "code",
   "execution_count": 5,
   "metadata": {},
   "outputs": [
    {
     "data": {
      "text/html": [
       "<pre>&lt;xarray.DataArray (time: 8, d2: 2)&gt;\n",
       "array([[cftime.DatetimeGregorian(2018-01-01 00:00:00),\n",
       "        cftime.DatetimeGregorian(2018-02-01 00:00:00)],\n",
       "       [cftime.DatetimeGregorian(2018-02-01 00:00:00),\n",
       "        cftime.DatetimeGregorian(2018-03-01 00:00:00)],\n",
       "       [cftime.DatetimeGregorian(2018-03-01 00:00:00),\n",
       "        cftime.DatetimeGregorian(2018-04-01 00:00:00)],\n",
       "       [cftime.DatetimeGregorian(2018-04-01 00:00:00),\n",
       "        cftime.DatetimeGregorian(2018-05-01 00:00:00)],\n",
       "       [cftime.DatetimeGregorian(2018-05-01 00:00:00),\n",
       "        cftime.DatetimeGregorian(2018-06-01 00:00:00)],\n",
       "       [cftime.DatetimeGregorian(2018-06-01 00:00:00),\n",
       "        cftime.DatetimeGregorian(2018-07-01 00:00:00)],\n",
       "       [cftime.DatetimeGregorian(2018-07-01 00:00:00),\n",
       "        cftime.DatetimeGregorian(2018-08-01 00:00:00)],\n",
       "       [cftime.DatetimeGregorian(2018-08-01 00:00:00),\n",
       "        cftime.DatetimeGregorian(2018-09-01 00:00:00)]], dtype=object)\n",
       "Dimensions without coordinates: time, d2</pre>"
      ],
      "text/plain": [
       "<xarray.DataArray (time: 8, d2: 2)>\n",
       "array([[cftime.DatetimeGregorian(2018-01-01 00:00:00),\n",
       "        cftime.DatetimeGregorian(2018-02-01 00:00:00)],\n",
       "       [cftime.DatetimeGregorian(2018-02-01 00:00:00),\n",
       "        cftime.DatetimeGregorian(2018-03-01 00:00:00)],\n",
       "       [cftime.DatetimeGregorian(2018-03-01 00:00:00),\n",
       "        cftime.DatetimeGregorian(2018-04-01 00:00:00)],\n",
       "       [cftime.DatetimeGregorian(2018-04-01 00:00:00),\n",
       "        cftime.DatetimeGregorian(2018-05-01 00:00:00)],\n",
       "       [cftime.DatetimeGregorian(2018-05-01 00:00:00),\n",
       "        cftime.DatetimeGregorian(2018-06-01 00:00:00)],\n",
       "       [cftime.DatetimeGregorian(2018-06-01 00:00:00),\n",
       "        cftime.DatetimeGregorian(2018-07-01 00:00:00)],\n",
       "       [cftime.DatetimeGregorian(2018-07-01 00:00:00),\n",
       "        cftime.DatetimeGregorian(2018-08-01 00:00:00)],\n",
       "       [cftime.DatetimeGregorian(2018-08-01 00:00:00),\n",
       "        cftime.DatetimeGregorian(2018-09-01 00:00:00)]], dtype=object)\n",
       "Dimensions without coordinates: time, d2"
      ]
     },
     "execution_count": 5,
     "metadata": {},
     "output_type": "execute_result"
    }
   ],
   "source": [
    "remapper.incoming_time_bounds"
   ]
  },
  {
   "cell_type": "code",
   "execution_count": 6,
   "metadata": {},
   "outputs": [
    {
     "data": {
      "text/html": [
       "<pre>&lt;xarray.DataArray (time: 1, d2: 2)&gt;\n",
       "array([[cftime.DatetimeGregorian(2018-12-31 00:00:00),\n",
       "        cftime.DatetimeGregorian(2019-12-31 00:00:00)]], dtype=object)\n",
       "Dimensions without coordinates: time, d2</pre>"
      ],
      "text/plain": [
       "<xarray.DataArray (time: 1, d2: 2)>\n",
       "array([[cftime.DatetimeGregorian(2018-12-31 00:00:00),\n",
       "        cftime.DatetimeGregorian(2019-12-31 00:00:00)]], dtype=object)\n",
       "Dimensions without coordinates: time, d2"
      ]
     },
     "execution_count": 6,
     "metadata": {},
     "output_type": "execute_result"
    }
   ],
   "source": [
    "remapper.outgoing_time_bounds"
   ]
  }
 ],
 "metadata": {
  "kernelspec": {
   "display_name": "Python 3",
   "language": "python",
   "name": "python3"
  },
  "language_info": {
   "codemirror_mode": {
    "name": "ipython",
    "version": 3
   },
   "file_extension": ".py",
   "mimetype": "text/x-python",
   "name": "python",
   "nbconvert_exporter": "python",
   "pygments_lexer": "ipython3",
   "version": "3.7.6"
  },
  "widgets": {
   "application/vnd.jupyter.widget-state+json": {
    "state": {},
    "version_major": 2,
    "version_minor": 0
   }
  }
 },
 "nbformat": 4,
 "nbformat_minor": 4
}
